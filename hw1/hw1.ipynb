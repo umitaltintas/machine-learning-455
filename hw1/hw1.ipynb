{
 "cells": [
  {
   "cell_type": "markdown",
   "metadata": {},
   "source": [
    "## this homework 1 for machine learning lecture"
   ]
  },
  {
   "cell_type": "code",
   "execution_count": 24,
   "metadata": {},
   "outputs": [],
   "source": [
    "import numpy as np\n",
    "import pandas as pd\n",
    "import matplotlib.pyplot as plt\n",
    "import sklearn.svm as svm\n",
    "from sklearn.model_selection import train_test_split,GridSearchCV,ShuffleSplit\n",
    "from sklearn.neighbors import KNeighborsClassifier\n",
    "from sklearn.preprocessing import StandardScaler,MinMaxScaler,LabelEncoder,OneHotEncoder,OrdinalEncoder\n",
    "\n",
    " "
   ]
  },
  {
   "cell_type": "code",
   "execution_count": 34,
   "metadata": {},
   "outputs": [
    {
     "name": "stderr",
     "output_type": "stream",
     "text": [
      "/home/umit/.local/lib/python3.10/site-packages/sklearn/preprocessing/_label.py:115: DataConversionWarning: A column-vector y was passed when a 1d array was expected. Please change the shape of y to (n_samples, ), for example using ravel().\n",
      "  y = column_or_1d(y, warn=True)\n"
     ]
    },
    {
     "data": {
      "text/plain": [
       "array([0, 1, 1, ..., 0, 0, 1])"
      ]
     },
     "execution_count": 34,
     "metadata": {},
     "output_type": "execute_result"
    }
   ],
   "source": [
    "bank_data = pd.read_csv('bank.csv', sep=';')\n",
    "ordinalEncoder = OrdinalEncoder()\n",
    "labelEncoder = LabelEncoder()\n",
    "oneHotEncoder = OneHotEncoder(sparse=False)\n",
    "eduLevel = ordinalEncoder.fit_transform(bank_data['education'].values.reshape(\n",
    "    -1, 1))\n",
    "jobCategory = labelEncoder.fit_transform(bank_data['job'].values.reshape(\n",
    "    -1, 1))\n",
    "martialStatus = oneHotEncoder.fit_transform(\n",
    "    bank_data['marital'].values.reshape(-1, 1))\n",
    "age = ordinalEncoder.fit_transform(bank_data['age'].values.reshape(-1, 1))\n",
    "default = oneHotEncoder.fit_transform(bank_data['default'].values.reshape(\n",
    "    -1, 1))\n",
    "housing = labelEncoder.fit_transform(bank_data['housing'].values.reshape(\n",
    "    -1, 1))\n",
    "\n",
    "# default\n",
    "\n",
    "# bank_data.dropna()\n",
    "# y = bank_data['y']\n",
    "# x = bank_data.drop(['y'], axis=1)\n",
    "# x_train, x_test, y_train, y_test = train_test_split(x,\n",
    "#                                                     y,\n",
    "#                                                     test_size=0.2,\n",
    "#                                                     random_state=42)\n",
    "# knn = KNeighborsClassifier(n_neighbors=5)\n",
    "# knn.fit(x_train, y_train)\n",
    "# y_pred = knn.predict(x_test)\n",
    "# print('Accuracy of KNN:', knn.score(x_test, y_test))\n"
   ]
  }
 ],
 "metadata": {
  "interpreter": {
   "hash": "e7370f93d1d0cde622a1f8e1c04877d8463912d04d973331ad4851f04de6915a"
  },
  "kernelspec": {
   "display_name": "Python 3.10.2 64-bit",
   "language": "python",
   "name": "python3"
  },
  "language_info": {
   "codemirror_mode": {
    "name": "ipython",
    "version": 3
   },
   "file_extension": ".py",
   "mimetype": "text/x-python",
   "name": "python",
   "nbconvert_exporter": "python",
   "pygments_lexer": "ipython3",
   "version": "3.10.2"
  },
  "orig_nbformat": 4
 },
 "nbformat": 4,
 "nbformat_minor": 2
}
