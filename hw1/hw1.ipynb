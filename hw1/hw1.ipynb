{
 "cells": [
  {
   "cell_type": "markdown",
   "metadata": {},
   "source": [
    "## this homework 1 for machine learning lecture"
   ]
  },
  {
   "cell_type": "code",
   "execution_count": 6,
   "metadata": {},
   "outputs": [],
   "source": [
    "import numpy as np\n",
    "import pandas as pd\n",
    "import matplotlib.pyplot as plt\n",
    "import sklearn.svm as svm\n",
    "from sklearn.model_selection import train_test_split, GridSearchCV, ShuffleSplit\n",
    "from sklearn.neighbors import KNeighborsClassifier\n",
    "from sklearn.preprocessing import StandardScaler, MinMaxScaler, LabelEncoder, OneHotEncoder, OrdinalEncoder\n",
    "from sklearn.compose import make_column_transformer\n",
    "from sklearn.pipeline import Pipeline\n",
    "import scipy.spatial.distance\n",
    "from collections import Counter\n"
   ]
  },
  {
   "cell_type": "code",
   "execution_count": 7,
   "metadata": {},
   "outputs": [],
   "source": [
    "## implementation of knn classsifer without sklearn whic takes k and metric params\n",
    "class KNNClassifier:\n",
    "\n",
    "    def __init__(self, k=5, metric='euclidean'):\n",
    "        self.k = k\n",
    "        self.metric = metric\n",
    "        self.X_train = None\n",
    "        self.y_train = None\n",
    "        self.X_test = None\n",
    "        self.y_test = None\n",
    "        self.classes = None\n",
    "\n",
    "    def set_params(self, **parameters):\n",
    "        for parameter, value in parameters.items():\n",
    "            setattr(self, parameter, value)\n",
    "        return self\n",
    "\n",
    "    def fit(self, X_train, y_train):\n",
    "        self.X_train = X_train\n",
    "        self.y_train = y_train\n",
    "        self.classes = y_train\n",
    "        return self\n",
    "\n",
    "    def predict(self, X_test):\n",
    "        self.X_test = X_test\n",
    "        y_pred = []\n",
    "        for i in range(self.X_test.shape[0]):\n",
    "            # calculate distances\n",
    "            distances = scipy.spatial.distance.cdist(self.X_train,\n",
    "                                                     self.X_test[i, :].reshape(\n",
    "                                                         1, -1),\n",
    "                                                     metric=self.metric)\n",
    "            # sort the distances\n",
    "            sorted_indices = np.argsort(distances, axis=0)\n",
    "            # get the indices of the k nearest neighbors\n",
    "            k_nearest_indices = sorted_indices[:self.k]\n",
    "            # get the classes of the k nearest neighbors\n",
    "            # print(k_nearest_indices.flatten())\n",
    "            k_nearest_classes = [\n",
    "                self.y_train.get(i) for i in k_nearest_indices.flatten()\n",
    "            ]\n",
    "\n",
    "            # get the most common class\n",
    "            most_common_class = Counter(k_nearest_classes).most_common(1)[0][0]\n",
    "            y_pred.append(most_common_class)\n",
    "        return y_pred\n",
    "\n",
    "    def score(self, X_test, y_test):\n",
    "        y_pred = self.predict(X_test)\n",
    "        return np.sum(y_pred == y_test) / len(y_test)\n"
   ]
  },
  {
   "cell_type": "code",
   "execution_count": 8,
   "metadata": {},
   "outputs": [
    {
     "data": {
      "text/plain": [
       "'yes'"
      ]
     },
     "execution_count": 8,
     "metadata": {},
     "output_type": "execute_result"
    }
   ],
   "source": [
    "bank_data = pd.read_csv('bank.csv', sep=';')\n",
    "bank_data = bank_data.dropna()\n",
    "\n",
    "Y = bank_data['y']\n",
    "X = bank_data.drop(['y'], axis=1)\n",
    "Y[1319]"
   ]
  },
  {
   "cell_type": "code",
   "execution_count": 9,
   "metadata": {},
   "outputs": [
    {
     "data": {
      "text/plain": [
       "3097     no\n",
       "3716     no\n",
       "109      no\n",
       "3824     no\n",
       "2924    yes\n",
       "2622     no\n",
       "4228     no\n",
       "2308     no\n",
       "459      no\n",
       "4309     no\n",
       "275      no\n",
       "4384     no\n",
       "3069     no\n",
       "4137     no\n",
       "1891     no\n",
       "Name: y, dtype: object"
      ]
     },
     "execution_count": 9,
     "metadata": {},
     "output_type": "execute_result"
    }
   ],
   "source": [
    "ordinalEncoder = OrdinalEncoder()\n",
    "oneHotEncoder = OneHotEncoder(sparse=False, handle_unknown='ignore')\n",
    "labelEncoder = LabelEncoder()\n",
    "\n",
    "column_transformer = make_column_transformer(\n",
    "    (ordinalEncoder,\n",
    "     ['job', 'education', 'housing', 'loan', 'contact', 'month', 'poutcome']),\n",
    "    (oneHotEncoder, [\n",
    "        'age',\n",
    "        'campaign',\n",
    "        'pdays',\n",
    "        'previous',\n",
    "        'day',\n",
    "        'marital',\n",
    "        'default',\n",
    "    ]),\n",
    "    remainder='passthrough')\n",
    "\n",
    "X_train, X_test, y_train, y_test = train_test_split(X,\n",
    "                                                    Y,\n",
    "                                                    test_size=0.2,\n",
    "                                                    )\n",
    "y_train[1310:1325]\n"
   ]
  },
  {
   "cell_type": "code",
   "execution_count": 10,
   "metadata": {},
   "outputs": [
    {
     "name": "stdout",
     "output_type": "stream",
     "text": [
      "{'classifier__k': 4}\n",
      "0.46488479262672816\n",
      "0.7447513812154696\n"
     ]
    }
   ],
   "source": [
    "pipeline = Pipeline([('column_transformer', column_transformer),\n",
    "                     ('scaler', StandardScaler()),\n",
    "                     ('classifier', KNNClassifier(k=4))])\n",
    "\n",
    "pipeline.fit(X_train, y_train)\n",
    "pipeline.score(X_test, y_test)\n",
    "\n",
    "cv = ShuffleSplit(n_splits=10, test_size=0.3, random_state=0)\n",
    "grid = GridSearchCV(pipeline,\n",
    "                   param_grid={'classifier__k': [4]},\n",
    "                    cv=cv)\n",
    "grid.fit(X_train, y_train)\n",
    "grid.score(X_test, y_test)\n",
    "\n",
    "print(grid.best_params_)\n",
    "print(grid.best_score_)\n",
    "print(grid.score(X_test, y_test))\n",
    "\n"
   ]
  }
 ],
 "metadata": {
  "interpreter": {
   "hash": "e7370f93d1d0cde622a1f8e1c04877d8463912d04d973331ad4851f04de6915a"
  },
  "kernelspec": {
   "display_name": "Python 3.10.2 64-bit",
   "language": "python",
   "name": "python3"
  },
  "language_info": {
   "codemirror_mode": {
    "name": "ipython",
    "version": 3
   },
   "file_extension": ".py",
   "mimetype": "text/x-python",
   "name": "python",
   "nbconvert_exporter": "python",
   "pygments_lexer": "ipython3",
   "version": "3.10.2"
  },
  "orig_nbformat": 4
 },
 "nbformat": 4,
 "nbformat_minor": 2
}
